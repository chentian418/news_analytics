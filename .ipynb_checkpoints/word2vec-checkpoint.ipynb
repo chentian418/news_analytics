{
 "cells": [
  {
   "cell_type": "markdown",
   "metadata": {},
   "source": [
    "# Word Embeddings\n",
    "Use word embeddings to explore the Wall Street Journal from 2019/11 to 2021/11.  \n",
    "This jupyter notebook is supposed to be run on the ProQues TDM studio."
   ]
  },
  {
   "cell_type": "code",
   "execution_count": 10,
   "metadata": {},
   "outputs": [],
   "source": [
    "import dask\n",
    "import nltk\n",
    "from gensim import models\n",
    "import pandas as pd\n",
    "import dwe # custom module for today"
   ]
  },
  {
   "cell_type": "code",
   "execution_count": 11,
   "metadata": {},
   "outputs": [],
   "source": [
    "import nltk\n",
    "nltk.data.path.append('/home/ec2-user/SageMaker/nltk_data/')\n",
    "from nltk.corpus import stopwords\n",
    "from nltk.tokenize import punkt"
   ]
  },
  {
   "cell_type": "code",
   "execution_count": 3,
   "metadata": {},
   "outputs": [],
   "source": [
    " !conda list | grep \"dask\""
   ]
  },
  {
   "cell_type": "code",
   "execution_count": 2,
   "metadata": {},
   "outputs": [],
   "source": [
    "import dask.dataframe as dd"
   ]
  },
  {
   "cell_type": "code",
   "execution_count": 8,
   "metadata": {},
   "outputs": [],
   "source": [
    "# The part after this cell should follow the \"CovertToDataframeMultiprocessing.ipynb\" file.\n",
    "# But the two lines right below are repeated from \"CoverToDataframeMultiprocessing\" for illusration purpose.\n",
    "# Creating a dataframe, setting each of the columns to one of the lists we made in the cell above\n",
    "df = pd.DataFrame({'Article ID': filename_list,'Text': text_list, 'Date': date_list})"
   ]
  },
  {
   "cell_type": "code",
   "execution_count": 9,
   "metadata": {},
   "outputs": [
    {
     "data": {
      "text/html": [
       "<div>\n",
       "<style scoped>\n",
       "    .dataframe tbody tr th:only-of-type {\n",
       "        vertical-align: middle;\n",
       "    }\n",
       "\n",
       "    .dataframe tbody tr th {\n",
       "        vertical-align: top;\n",
       "    }\n",
       "\n",
       "    .dataframe thead th {\n",
       "        text-align: right;\n",
       "    }\n",
       "</style>\n",
       "<table border=\"1\" class=\"dataframe\">\n",
       "  <thead>\n",
       "    <tr style=\"text-align: right;\">\n",
       "      <th></th>\n",
       "      <th>Article ID</th>\n",
       "      <th>Text</th>\n",
       "      <th>Date</th>\n",
       "    </tr>\n",
       "  </thead>\n",
       "  <tbody>\n",
       "    <tr>\n",
       "      <th>0</th>\n",
       "      <td>2457405332.xml</td>\n",
       "      <td>\\nJoe Biden racked up Electoral College votes ...</td>\n",
       "      <td>2020-11-05</td>\n",
       "    </tr>\n",
       "    <tr>\n",
       "      <th>1</th>\n",
       "      <td>2384277728.xml</td>\n",
       "      <td>\\nDanita Sienknecht was on a car ride with her...</td>\n",
       "      <td>2020-03-30</td>\n",
       "    </tr>\n",
       "    <tr>\n",
       "      <th>2</th>\n",
       "      <td>2524054500.xml</td>\n",
       "      <td>\\nSimon Heaton said he expected to get a prest...</td>\n",
       "      <td>2021-05-10</td>\n",
       "    </tr>\n",
       "    <tr>\n",
       "      <th>3</th>\n",
       "      <td>2325226974.xml</td>\n",
       "      <td>\\nHere are some of the companies with shares e...</td>\n",
       "      <td>2019-12-13</td>\n",
       "    </tr>\n",
       "    <tr>\n",
       "      <th>4</th>\n",
       "      <td>2599921634.xml</td>\n",
       "      <td>\\nNovartis AG bet big on its new cholesterol-b...</td>\n",
       "      <td>2021-11-21</td>\n",
       "    </tr>\n",
       "    <tr>\n",
       "      <th>...</th>\n",
       "      <td>...</td>\n",
       "      <td>...</td>\n",
       "      <td>...</td>\n",
       "    </tr>\n",
       "    <tr>\n",
       "      <th>96594</th>\n",
       "      <td>2512354895.xml</td>\n",
       "      <td>\\n\\n\\n\\n\\n\\n\\n\\n\\n\\n\\n\\nBiden administration o...</td>\n",
       "      <td>2021-04-14</td>\n",
       "    </tr>\n",
       "    <tr>\n",
       "      <th>96595</th>\n",
       "      <td>2577580565.xml</td>\n",
       "      <td>\\nTOKYO—Fumio Kishida, a former foreign minist...</td>\n",
       "      <td>2021-09-30</td>\n",
       "    </tr>\n",
       "    <tr>\n",
       "      <th>96596</th>\n",
       "      <td>2443906195.xml</td>\n",
       "      <td>\\nU.K. budget carrier EasyJet PLC hired a new ...</td>\n",
       "      <td>2020-09-18</td>\n",
       "    </tr>\n",
       "    <tr>\n",
       "      <th>96597</th>\n",
       "      <td>2540658373.xml</td>\n",
       "      <td>\\nMINNEAPOLIS\\nDriver Plows Into\\nProtest, Kil...</td>\n",
       "      <td>2021-06-15</td>\n",
       "    </tr>\n",
       "    <tr>\n",
       "      <th>96598</th>\n",
       "      <td>2469217908.xml</td>\n",
       "      <td>\\n \\n\\n \\nPRESENTS THEY'LL USE PROMPTLY Champa...</td>\n",
       "      <td>2020-12-11</td>\n",
       "    </tr>\n",
       "  </tbody>\n",
       "</table>\n",
       "<p>96599 rows × 3 columns</p>\n",
       "</div>"
      ],
      "text/plain": [
       "           Article ID                                               Text  \\\n",
       "0      2457405332.xml  \\nJoe Biden racked up Electoral College votes ...   \n",
       "1      2384277728.xml  \\nDanita Sienknecht was on a car ride with her...   \n",
       "2      2524054500.xml  \\nSimon Heaton said he expected to get a prest...   \n",
       "3      2325226974.xml  \\nHere are some of the companies with shares e...   \n",
       "4      2599921634.xml  \\nNovartis AG bet big on its new cholesterol-b...   \n",
       "...               ...                                                ...   \n",
       "96594  2512354895.xml  \\n\\n\\n\\n\\n\\n\\n\\n\\n\\n\\n\\nBiden administration o...   \n",
       "96595  2577580565.xml  \\nTOKYO—Fumio Kishida, a former foreign minist...   \n",
       "96596  2443906195.xml  \\nU.K. budget carrier EasyJet PLC hired a new ...   \n",
       "96597  2540658373.xml  \\nMINNEAPOLIS\\nDriver Plows Into\\nProtest, Kil...   \n",
       "96598  2469217908.xml  \\n \\n\\n \\nPRESENTS THEY'LL USE PROMPTLY Champa...   \n",
       "\n",
       "             Date  \n",
       "0      2020-11-05  \n",
       "1      2020-03-30  \n",
       "2      2021-05-10  \n",
       "3      2019-12-13  \n",
       "4      2021-11-21  \n",
       "...           ...  \n",
       "96594  2021-04-14  \n",
       "96595  2021-09-30  \n",
       "96596  2020-09-18  \n",
       "96597  2021-06-15  \n",
       "96598  2020-12-11  \n",
       "\n",
       "[96599 rows x 3 columns]"
      ]
     },
     "execution_count": 9,
     "metadata": {},
     "output_type": "execute_result"
    }
   ],
   "source": [
    "# Showing the dataframe\n",
    "df"
   ]
  },
  {
   "cell_type": "code",
   "execution_count": 13,
   "metadata": {},
   "outputs": [],
   "source": [
    "df['YM'] = df['Date'].str.slice(0,7)"
   ]
  },
  {
   "cell_type": "code",
   "execution_count": 14,
   "metadata": {},
   "outputs": [
    {
     "data": {
      "text/html": [
       "<div>\n",
       "<style scoped>\n",
       "    .dataframe tbody tr th:only-of-type {\n",
       "        vertical-align: middle;\n",
       "    }\n",
       "\n",
       "    .dataframe tbody tr th {\n",
       "        vertical-align: top;\n",
       "    }\n",
       "\n",
       "    .dataframe thead th {\n",
       "        text-align: right;\n",
       "    }\n",
       "</style>\n",
       "<table border=\"1\" class=\"dataframe\">\n",
       "  <thead>\n",
       "    <tr style=\"text-align: right;\">\n",
       "      <th></th>\n",
       "      <th>Article ID</th>\n",
       "      <th>Text</th>\n",
       "      <th>Date</th>\n",
       "      <th>YM</th>\n",
       "    </tr>\n",
       "  </thead>\n",
       "  <tbody>\n",
       "    <tr>\n",
       "      <th>0</th>\n",
       "      <td>2457405332.xml</td>\n",
       "      <td>\\nJoe Biden racked up Electoral College votes ...</td>\n",
       "      <td>2020-11-05</td>\n",
       "      <td>2020-11</td>\n",
       "    </tr>\n",
       "    <tr>\n",
       "      <th>1</th>\n",
       "      <td>2384277728.xml</td>\n",
       "      <td>\\nDanita Sienknecht was on a car ride with her...</td>\n",
       "      <td>2020-03-30</td>\n",
       "      <td>2020-03</td>\n",
       "    </tr>\n",
       "    <tr>\n",
       "      <th>2</th>\n",
       "      <td>2524054500.xml</td>\n",
       "      <td>\\nSimon Heaton said he expected to get a prest...</td>\n",
       "      <td>2021-05-10</td>\n",
       "      <td>2021-05</td>\n",
       "    </tr>\n",
       "    <tr>\n",
       "      <th>3</th>\n",
       "      <td>2325226974.xml</td>\n",
       "      <td>\\nHere are some of the companies with shares e...</td>\n",
       "      <td>2019-12-13</td>\n",
       "      <td>2019-12</td>\n",
       "    </tr>\n",
       "    <tr>\n",
       "      <th>4</th>\n",
       "      <td>2599921634.xml</td>\n",
       "      <td>\\nNovartis AG bet big on its new cholesterol-b...</td>\n",
       "      <td>2021-11-21</td>\n",
       "      <td>2021-11</td>\n",
       "    </tr>\n",
       "    <tr>\n",
       "      <th>...</th>\n",
       "      <td>...</td>\n",
       "      <td>...</td>\n",
       "      <td>...</td>\n",
       "      <td>...</td>\n",
       "    </tr>\n",
       "    <tr>\n",
       "      <th>96594</th>\n",
       "      <td>2512354895.xml</td>\n",
       "      <td>\\n\\n\\n\\n\\n\\n\\n\\n\\n\\n\\n\\nBiden administration o...</td>\n",
       "      <td>2021-04-14</td>\n",
       "      <td>2021-04</td>\n",
       "    </tr>\n",
       "    <tr>\n",
       "      <th>96595</th>\n",
       "      <td>2577580565.xml</td>\n",
       "      <td>\\nTOKYO—Fumio Kishida, a former foreign minist...</td>\n",
       "      <td>2021-09-30</td>\n",
       "      <td>2021-09</td>\n",
       "    </tr>\n",
       "    <tr>\n",
       "      <th>96596</th>\n",
       "      <td>2443906195.xml</td>\n",
       "      <td>\\nU.K. budget carrier EasyJet PLC hired a new ...</td>\n",
       "      <td>2020-09-18</td>\n",
       "      <td>2020-09</td>\n",
       "    </tr>\n",
       "    <tr>\n",
       "      <th>96597</th>\n",
       "      <td>2540658373.xml</td>\n",
       "      <td>\\nMINNEAPOLIS\\nDriver Plows Into\\nProtest, Kil...</td>\n",
       "      <td>2021-06-15</td>\n",
       "      <td>2021-06</td>\n",
       "    </tr>\n",
       "    <tr>\n",
       "      <th>96598</th>\n",
       "      <td>2469217908.xml</td>\n",
       "      <td>\\n \\n\\n \\nPRESENTS THEY'LL USE PROMPTLY Champa...</td>\n",
       "      <td>2020-12-11</td>\n",
       "      <td>2020-12</td>\n",
       "    </tr>\n",
       "  </tbody>\n",
       "</table>\n",
       "<p>96599 rows × 4 columns</p>\n",
       "</div>"
      ],
      "text/plain": [
       "           Article ID                                               Text  \\\n",
       "0      2457405332.xml  \\nJoe Biden racked up Electoral College votes ...   \n",
       "1      2384277728.xml  \\nDanita Sienknecht was on a car ride with her...   \n",
       "2      2524054500.xml  \\nSimon Heaton said he expected to get a prest...   \n",
       "3      2325226974.xml  \\nHere are some of the companies with shares e...   \n",
       "4      2599921634.xml  \\nNovartis AG bet big on its new cholesterol-b...   \n",
       "...               ...                                                ...   \n",
       "96594  2512354895.xml  \\n\\n\\n\\n\\n\\n\\n\\n\\n\\n\\n\\nBiden administration o...   \n",
       "96595  2577580565.xml  \\nTOKYO—Fumio Kishida, a former foreign minist...   \n",
       "96596  2443906195.xml  \\nU.K. budget carrier EasyJet PLC hired a new ...   \n",
       "96597  2540658373.xml  \\nMINNEAPOLIS\\nDriver Plows Into\\nProtest, Kil...   \n",
       "96598  2469217908.xml  \\n \\n\\n \\nPRESENTS THEY'LL USE PROMPTLY Champa...   \n",
       "\n",
       "             Date       YM  \n",
       "0      2020-11-05  2020-11  \n",
       "1      2020-03-30  2020-03  \n",
       "2      2021-05-10  2021-05  \n",
       "3      2019-12-13  2019-12  \n",
       "4      2021-11-21  2021-11  \n",
       "...           ...      ...  \n",
       "96594  2021-04-14  2021-04  \n",
       "96595  2021-09-30  2021-09  \n",
       "96596  2020-09-18  2020-09  \n",
       "96597  2021-06-15  2021-06  \n",
       "96598  2020-12-11  2020-12  \n",
       "\n",
       "[96599 rows x 4 columns]"
      ]
     },
     "execution_count": 14,
     "metadata": {},
     "output_type": "execute_result"
    }
   ],
   "source": [
    "df"
   ]
  },
  {
   "cell_type": "code",
   "execution_count": 15,
   "metadata": {},
   "outputs": [],
   "source": [
    "df = df.loc[:, ['YM', 'Text']]"
   ]
  },
  {
   "cell_type": "code",
   "execution_count": 16,
   "metadata": {},
   "outputs": [],
   "source": [
    "# Create dask dataframe and partition them into 8 partitions\n",
    "df_dask = dd.from_pandas(df,npartitions=8)"
   ]
  },
  {
   "cell_type": "code",
   "execution_count": 17,
   "metadata": {},
   "outputs": [
    {
     "data": {
      "text/html": [
       "<div>\n",
       "<style scoped>\n",
       "    .dataframe tbody tr th:only-of-type {\n",
       "        vertical-align: middle;\n",
       "    }\n",
       "\n",
       "    .dataframe tbody tr th {\n",
       "        vertical-align: top;\n",
       "    }\n",
       "\n",
       "    .dataframe thead th {\n",
       "        text-align: right;\n",
       "    }\n",
       "</style>\n",
       "<table border=\"1\" class=\"dataframe\">\n",
       "  <thead>\n",
       "    <tr style=\"text-align: right;\">\n",
       "      <th></th>\n",
       "      <th>YM</th>\n",
       "      <th>Text</th>\n",
       "    </tr>\n",
       "  </thead>\n",
       "  <tbody>\n",
       "    <tr>\n",
       "      <th>0</th>\n",
       "      <td>2020-11</td>\n",
       "      <td>\\nJoe Biden racked up Electoral College votes ...</td>\n",
       "    </tr>\n",
       "    <tr>\n",
       "      <th>1</th>\n",
       "      <td>2020-03</td>\n",
       "      <td>\\nDanita Sienknecht was on a car ride with her...</td>\n",
       "    </tr>\n",
       "    <tr>\n",
       "      <th>2</th>\n",
       "      <td>2021-05</td>\n",
       "      <td>\\nSimon Heaton said he expected to get a prest...</td>\n",
       "    </tr>\n",
       "    <tr>\n",
       "      <th>3</th>\n",
       "      <td>2019-12</td>\n",
       "      <td>\\nHere are some of the companies with shares e...</td>\n",
       "    </tr>\n",
       "    <tr>\n",
       "      <th>4</th>\n",
       "      <td>2021-11</td>\n",
       "      <td>\\nNovartis AG bet big on its new cholesterol-b...</td>\n",
       "    </tr>\n",
       "  </tbody>\n",
       "</table>\n",
       "</div>"
      ],
      "text/plain": [
       "        YM                                               Text\n",
       "0  2020-11  \\nJoe Biden racked up Electoral College votes ...\n",
       "1  2020-03  \\nDanita Sienknecht was on a car ride with her...\n",
       "2  2021-05  \\nSimon Heaton said he expected to get a prest...\n",
       "3  2019-12  \\nHere are some of the companies with shares e...\n",
       "4  2021-11  \\nNovartis AG bet big on its new cholesterol-b..."
      ]
     },
     "execution_count": 17,
     "metadata": {},
     "output_type": "execute_result"
    }
   ],
   "source": [
    "df_dask.head()"
   ]
  },
  {
   "cell_type": "markdown",
   "metadata": {},
   "source": [
    "# Tokenize the data"
   ]
  },
  {
   "cell_type": "code",
   "execution_count": 18,
   "metadata": {},
   "outputs": [
    {
     "name": "stderr",
     "output_type": "stream",
     "text": [
      "/home/ec2-user/SageMaker/.conda/envs/sample_env/lib/python3.7/site-packages/dask/dataframe/core.py:3718: UserWarning: \n",
      "You did not provide metadata, so Dask is running your function on a small dataset to guess output types. It is possible that Dask will guess incorrectly.\n",
      "To provide an explicit output types or to silence this message, please provide the `meta=` keyword, as described in the map or apply function that you are using.\n",
      "  Before: .apply(func)\n",
      "  After:  .apply(func, meta=('Text', 'object'))\n",
      "\n",
      "  warnings.warn(meta_warning(meta))\n",
      "/home/ec2-user/SageMaker/.conda/envs/sample_env/lib/python3.7/site-packages/dask/dataframe/core.py:3718: UserWarning: \n",
      "You did not provide metadata, so Dask is running your function on a small dataset to guess output types. It is possible that Dask will guess incorrectly.\n",
      "To provide an explicit output types or to silence this message, please provide the `meta=` keyword, as described in the map or apply function that you are using.\n",
      "  Before: .apply(func)\n",
      "  After:  .apply(func, meta=('Text', 'object'))\n",
      "\n",
      "  warnings.warn(meta_warning(meta))\n",
      "/home/ec2-user/SageMaker/.conda/envs/sample_env/lib/python3.7/site-packages/dask/dataframe/core.py:3718: UserWarning: \n",
      "You did not provide metadata, so Dask is running your function on a small dataset to guess output types. It is possible that Dask will guess incorrectly.\n",
      "To provide an explicit output types or to silence this message, please provide the `meta=` keyword, as described in the map or apply function that you are using.\n",
      "  Before: .apply(func)\n",
      "  After:  .apply(func, meta=('Text', 'object'))\n",
      "\n",
      "  warnings.warn(meta_warning(meta))\n",
      "/home/ec2-user/SageMaker/.conda/envs/sample_env/lib/python3.7/site-packages/dask/dataframe/core.py:3718: UserWarning: \n",
      "You did not provide metadata, so Dask is running your function on a small dataset to guess output types. It is possible that Dask will guess incorrectly.\n",
      "To provide an explicit output types or to silence this message, please provide the `meta=` keyword, as described in the map or apply function that you are using.\n",
      "  Before: .apply(func)\n",
      "  After:  .apply(func, meta=('Text', 'object'))\n",
      "\n",
      "  warnings.warn(meta_warning(meta))\n",
      "/home/ec2-user/SageMaker/.conda/envs/sample_env/lib/python3.7/site-packages/dask/dataframe/core.py:3718: UserWarning: \n",
      "You did not provide metadata, so Dask is running your function on a small dataset to guess output types. It is possible that Dask will guess incorrectly.\n",
      "To provide an explicit output types or to silence this message, please provide the `meta=` keyword, as described in the map or apply function that you are using.\n",
      "  Before: .apply(func)\n",
      "  After:  .apply(func, meta=('Text', 'object'))\n",
      "\n",
      "  warnings.warn(meta_warning(meta))\n",
      "/home/ec2-user/SageMaker/.conda/envs/sample_env/lib/python3.7/site-packages/dask/dataframe/core.py:3718: UserWarning: \n",
      "You did not provide metadata, so Dask is running your function on a small dataset to guess output types. It is possible that Dask will guess incorrectly.\n",
      "To provide an explicit output types or to silence this message, please provide the `meta=` keyword, as described in the map or apply function that you are using.\n",
      "  Before: .apply(func)\n",
      "  After:  .apply(func, meta=('Text', 'object'))\n",
      "\n",
      "  warnings.warn(meta_warning(meta))\n",
      "/home/ec2-user/SageMaker/.conda/envs/sample_env/lib/python3.7/site-packages/dask/dataframe/core.py:3718: UserWarning: \n",
      "You did not provide metadata, so Dask is running your function on a small dataset to guess output types. It is possible that Dask will guess incorrectly.\n",
      "To provide an explicit output types or to silence this message, please provide the `meta=` keyword, as described in the map or apply function that you are using.\n",
      "  Before: .apply(func)\n",
      "  After:  .apply(func, meta=('Text', 'object'))\n",
      "\n",
      "  warnings.warn(meta_warning(meta))\n",
      "/home/ec2-user/SageMaker/.conda/envs/sample_env/lib/python3.7/site-packages/dask/dataframe/core.py:3718: UserWarning: \n",
      "You did not provide metadata, so Dask is running your function on a small dataset to guess output types. It is possible that Dask will guess incorrectly.\n",
      "To provide an explicit output types or to silence this message, please provide the `meta=` keyword, as described in the map or apply function that you are using.\n",
      "  Before: .apply(func)\n",
      "  After:  .apply(func, meta=('Text', 'object'))\n",
      "\n",
      "  warnings.warn(meta_warning(meta))\n",
      "/home/ec2-user/SageMaker/.conda/envs/sample_env/lib/python3.7/site-packages/dask/dataframe/core.py:3718: UserWarning: \n",
      "You did not provide metadata, so Dask is running your function on a small dataset to guess output types. It is possible that Dask will guess incorrectly.\n",
      "To provide an explicit output types or to silence this message, please provide the `meta=` keyword, as described in the map or apply function that you are using.\n",
      "  Before: .apply(func)\n",
      "  After:  .apply(func, meta=('Text', 'object'))\n",
      "\n",
      "  warnings.warn(meta_warning(meta))\n",
      "/home/ec2-user/SageMaker/.conda/envs/sample_env/lib/python3.7/site-packages/dask/dataframe/core.py:3718: UserWarning: \n",
      "You did not provide metadata, so Dask is running your function on a small dataset to guess output types. It is possible that Dask will guess incorrectly.\n",
      "To provide an explicit output types or to silence this message, please provide the `meta=` keyword, as described in the map or apply function that you are using.\n",
      "  Before: .apply(func)\n",
      "  After:  .apply(func, meta=('Text', 'object'))\n",
      "\n",
      "  warnings.warn(meta_warning(meta))\n",
      "/home/ec2-user/SageMaker/.conda/envs/sample_env/lib/python3.7/site-packages/dask/dataframe/core.py:3718: UserWarning: \n",
      "You did not provide metadata, so Dask is running your function on a small dataset to guess output types. It is possible that Dask will guess incorrectly.\n",
      "To provide an explicit output types or to silence this message, please provide the `meta=` keyword, as described in the map or apply function that you are using.\n",
      "  Before: .apply(func)\n",
      "  After:  .apply(func, meta=('Text', 'object'))\n",
      "\n",
      "  warnings.warn(meta_warning(meta))\n",
      "/home/ec2-user/SageMaker/.conda/envs/sample_env/lib/python3.7/site-packages/dask/dataframe/core.py:3718: UserWarning: \n",
      "You did not provide metadata, so Dask is running your function on a small dataset to guess output types. It is possible that Dask will guess incorrectly.\n",
      "To provide an explicit output types or to silence this message, please provide the `meta=` keyword, as described in the map or apply function that you are using.\n",
      "  Before: .apply(func)\n",
      "  After:  .apply(func, meta=('Text', 'object'))\n",
      "\n",
      "  warnings.warn(meta_warning(meta))\n",
      "/home/ec2-user/SageMaker/.conda/envs/sample_env/lib/python3.7/site-packages/dask/dataframe/core.py:3718: UserWarning: \n",
      "You did not provide metadata, so Dask is running your function on a small dataset to guess output types. It is possible that Dask will guess incorrectly.\n",
      "To provide an explicit output types or to silence this message, please provide the `meta=` keyword, as described in the map or apply function that you are using.\n",
      "  Before: .apply(func)\n",
      "  After:  .apply(func, meta=('Text', 'object'))\n",
      "\n",
      "  warnings.warn(meta_warning(meta))\n",
      "/home/ec2-user/SageMaker/.conda/envs/sample_env/lib/python3.7/site-packages/dask/dataframe/core.py:3718: UserWarning: \n",
      "You did not provide metadata, so Dask is running your function on a small dataset to guess output types. It is possible that Dask will guess incorrectly.\n",
      "To provide an explicit output types or to silence this message, please provide the `meta=` keyword, as described in the map or apply function that you are using.\n",
      "  Before: .apply(func)\n",
      "  After:  .apply(func, meta=('Text', 'object'))\n",
      "\n",
      "  warnings.warn(meta_warning(meta))\n",
      "/home/ec2-user/SageMaker/.conda/envs/sample_env/lib/python3.7/site-packages/dask/dataframe/core.py:3718: UserWarning: \n",
      "You did not provide metadata, so Dask is running your function on a small dataset to guess output types. It is possible that Dask will guess incorrectly.\n",
      "To provide an explicit output types or to silence this message, please provide the `meta=` keyword, as described in the map or apply function that you are using.\n",
      "  Before: .apply(func)\n",
      "  After:  .apply(func, meta=('Text', 'object'))\n",
      "\n",
      "  warnings.warn(meta_warning(meta))\n",
      "/home/ec2-user/SageMaker/.conda/envs/sample_env/lib/python3.7/site-packages/dask/dataframe/core.py:3718: UserWarning: \n",
      "You did not provide metadata, so Dask is running your function on a small dataset to guess output types. It is possible that Dask will guess incorrectly.\n",
      "To provide an explicit output types or to silence this message, please provide the `meta=` keyword, as described in the map or apply function that you are using.\n",
      "  Before: .apply(func)\n",
      "  After:  .apply(func, meta=('Text', 'object'))\n",
      "\n",
      "  warnings.warn(meta_warning(meta))\n"
     ]
    },
    {
     "name": "stderr",
     "output_type": "stream",
     "text": [
      "/home/ec2-user/SageMaker/.conda/envs/sample_env/lib/python3.7/site-packages/dask/dataframe/core.py:3718: UserWarning: \n",
      "You did not provide metadata, so Dask is running your function on a small dataset to guess output types. It is possible that Dask will guess incorrectly.\n",
      "To provide an explicit output types or to silence this message, please provide the `meta=` keyword, as described in the map or apply function that you are using.\n",
      "  Before: .apply(func)\n",
      "  After:  .apply(func, meta=('Text', 'object'))\n",
      "\n",
      "  warnings.warn(meta_warning(meta))\n",
      "/home/ec2-user/SageMaker/.conda/envs/sample_env/lib/python3.7/site-packages/dask/dataframe/core.py:3718: UserWarning: \n",
      "You did not provide metadata, so Dask is running your function on a small dataset to guess output types. It is possible that Dask will guess incorrectly.\n",
      "To provide an explicit output types or to silence this message, please provide the `meta=` keyword, as described in the map or apply function that you are using.\n",
      "  Before: .apply(func)\n",
      "  After:  .apply(func, meta=('Text', 'object'))\n",
      "\n",
      "  warnings.warn(meta_warning(meta))\n",
      "/home/ec2-user/SageMaker/.conda/envs/sample_env/lib/python3.7/site-packages/dask/dataframe/core.py:3718: UserWarning: \n",
      "You did not provide metadata, so Dask is running your function on a small dataset to guess output types. It is possible that Dask will guess incorrectly.\n",
      "To provide an explicit output types or to silence this message, please provide the `meta=` keyword, as described in the map or apply function that you are using.\n",
      "  Before: .apply(func)\n",
      "  After:  .apply(func, meta=('Text', 'object'))\n",
      "\n",
      "  warnings.warn(meta_warning(meta))\n",
      "/home/ec2-user/SageMaker/.conda/envs/sample_env/lib/python3.7/site-packages/dask/dataframe/core.py:3718: UserWarning: \n",
      "You did not provide metadata, so Dask is running your function on a small dataset to guess output types. It is possible that Dask will guess incorrectly.\n",
      "To provide an explicit output types or to silence this message, please provide the `meta=` keyword, as described in the map or apply function that you are using.\n",
      "  Before: .apply(func)\n",
      "  After:  .apply(func, meta=('Text', 'object'))\n",
      "\n",
      "  warnings.warn(meta_warning(meta))\n",
      "/home/ec2-user/SageMaker/.conda/envs/sample_env/lib/python3.7/site-packages/dask/dataframe/core.py:3718: UserWarning: \n",
      "You did not provide metadata, so Dask is running your function on a small dataset to guess output types. It is possible that Dask will guess incorrectly.\n",
      "To provide an explicit output types or to silence this message, please provide the `meta=` keyword, as described in the map or apply function that you are using.\n",
      "  Before: .apply(func)\n",
      "  After:  .apply(func, meta=('Text', 'object'))\n",
      "\n",
      "  warnings.warn(meta_warning(meta))\n",
      "/home/ec2-user/SageMaker/.conda/envs/sample_env/lib/python3.7/site-packages/dask/dataframe/core.py:3718: UserWarning: \n",
      "You did not provide metadata, so Dask is running your function on a small dataset to guess output types. It is possible that Dask will guess incorrectly.\n",
      "To provide an explicit output types or to silence this message, please provide the `meta=` keyword, as described in the map or apply function that you are using.\n",
      "  Before: .apply(func)\n",
      "  After:  .apply(func, meta=('Text', 'object'))\n",
      "\n",
      "  warnings.warn(meta_warning(meta))\n",
      "/home/ec2-user/SageMaker/.conda/envs/sample_env/lib/python3.7/site-packages/dask/dataframe/core.py:3718: UserWarning: \n",
      "You did not provide metadata, so Dask is running your function on a small dataset to guess output types. It is possible that Dask will guess incorrectly.\n",
      "To provide an explicit output types or to silence this message, please provide the `meta=` keyword, as described in the map or apply function that you are using.\n",
      "  Before: .apply(func)\n",
      "  After:  .apply(func, meta=('Text', 'object'))\n",
      "\n",
      "  warnings.warn(meta_warning(meta))\n",
      "/home/ec2-user/SageMaker/.conda/envs/sample_env/lib/python3.7/site-packages/dask/dataframe/core.py:3718: UserWarning: \n",
      "You did not provide metadata, so Dask is running your function on a small dataset to guess output types. It is possible that Dask will guess incorrectly.\n",
      "To provide an explicit output types or to silence this message, please provide the `meta=` keyword, as described in the map or apply function that you are using.\n",
      "  Before: .apply(func)\n",
      "  After:  .apply(func, meta=('Text', 'object'))\n",
      "\n",
      "  warnings.warn(meta_warning(meta))\n"
     ]
    }
   ],
   "source": [
    "# Tokenize the text using dwe\n",
    "dict_dask2 = {}\n",
    "months = df_dask['YM'].unique()\n",
    "df_group = df_dask.groupby('YM')\n",
    "for month in months:\n",
    "    dict_dask2[month] = dwe.tokenize_ob(df_group.get_group(month).Text).compute()"
   ]
  },
  {
   "cell_type": "code",
   "execution_count": 27,
   "metadata": {},
   "outputs": [
    {
     "data": {
      "text/plain": [
       "4      [novarti, ag, bet, big, new, cholesterolbust, ...\n",
       "13     [us, labor, market, sprang, back, life, octob,...\n",
       "28     [least, peopl, die, two, dozen, other, treat, ...\n",
       "42     [grizzli, flat, califdon, lee, wife, amanda, m...\n",
       "58     [madonna, public, critic, instagram, compani, ...\n",
       "76     [franc, take, european, council, presid, janua...\n",
       "79     [poor, harvest, spring, wheat, concern, winter...\n",
       "156    [washington, first, volley, nation, footbal, l...\n",
       "159    [procter, gambl, co, recal, old, spice, secret...\n",
       "164    [known, firearmsthem, brand, support, militari...\n",
       "177    [tokyo, nissan, motor, co, said, monday, plan,...\n",
       "197    [diana, gabaldon, author, best, known, outland...\n",
       "204    [two, payment, option, vy, hard, shopper, atte...\n",
       "225    [midlothian, texa, last, winter, peopl, costum...\n",
       "228    [sen, ron, wyden, propos, billionair, tax, acc...\n",
       "239    [pfizer, inc, said, thursday, agre, billion, d...\n",
       "251    [washington, presid, biden, host, ceremoni, mo...\n",
       "288    [extrem, disloc, market, junk, bond, chines, c...\n",
       "342    [two, us, canadian, missionari, kidnap, haiti,...\n",
       "349    [assemblag, manhattan, apart, own, year, late,...\n",
       "Name: Text, dtype: object"
      ]
     },
     "execution_count": 27,
     "metadata": {},
     "output_type": "execute_result"
    }
   ],
   "source": [
    "dict_dask2['2021-11'].head(20)"
   ]
  },
  {
   "cell_type": "markdown",
   "metadata": {},
   "source": [
    "# Aligning Diachronic Word Embeddings\n",
    "\n",
    "Use Gensim's Word2Vec implementation to transform words into vectors."
   ]
  },
  {
   "cell_type": "code",
   "execution_count": 22,
   "metadata": {},
   "outputs": [],
   "source": [
    "model = {}\n",
    "for month, tokens in dict_dask2.items():\n",
    "    model[month] = models.word2vec.Word2Vec(tokens, workers=-1)\n",
    "    model[month].save('w2v_{}.model'.format(month))\n",
    "\n",
    "model = {str(month): models.KeyedVectors.load('w2v_{}.model'.format(month)) for month in months}"
   ]
  },
  {
   "cell_type": "code",
   "execution_count": 24,
   "metadata": {},
   "outputs": [
    {
     "data": {
      "text/plain": [
       "array([-0.01246194, -0.00423844, -0.00754492, -0.00094433, -0.0076013 ,\n",
       "       -0.0039413 ,  0.00354507,  0.00443552, -0.0053397 , -0.00448217,\n",
       "        0.00812644, -0.01373298,  0.00528097, -0.00261526, -0.00158261,\n",
       "        0.00662444,  0.00707565, -0.00618023,  0.00849694, -0.00534548,\n",
       "        0.00836258, -0.00739764,  0.00376004,  0.00388304, -0.0100096 ,\n",
       "        0.00204969,  0.00824579, -0.00489771,  0.01671576,  0.00554534,\n",
       "       -0.00456122, -0.00910323,  0.01165122,  0.00956067,  0.00326219,\n",
       "       -0.01616808,  0.0046078 , -0.0040546 , -0.00817754, -0.01651328,\n",
       "        0.00313228,  0.00101648,  0.00323665,  0.01068779,  0.01575492,\n",
       "        0.00822953,  0.00199978,  0.00343103, -0.007583  ,  0.00367907,\n",
       "        0.00315927,  0.00935874, -0.00433332,  0.00300984, -0.00906182,\n",
       "        0.00901577, -0.01358785,  0.00736532, -0.01367095, -0.01630726,\n",
       "       -0.01458818,  0.0046094 ,  0.0012912 ,  0.00343539, -0.00633125,\n",
       "        0.013795  ,  0.00129037,  0.00793879, -0.00089897,  0.0101614 ,\n",
       "        0.01685372,  0.00706067,  0.00144489, -0.00490889,  0.0013182 ,\n",
       "       -0.00081446, -0.00467878, -0.01054413,  0.00248013,  0.01453103,\n",
       "       -0.00503271, -0.01719952, -0.00407277,  0.00951267,  0.00539712,\n",
       "       -0.00497514,  0.00241731, -0.00613017, -0.00511101,  0.00093622,\n",
       "        0.00444427,  0.00315092,  0.00913856,  0.01368533,  0.01408858,\n",
       "       -0.00586777,  0.01804875, -0.00802949,  0.00137819,  0.0010875 ],\n",
       "      dtype=float32)"
      ]
     },
     "execution_count": 24,
     "metadata": {},
     "output_type": "execute_result"
    }
   ],
   "source": [
    "# This is the vector representation of a word:\n",
    "model['2021-09'].wv['good'] - model['2021-09'].wv['bad']"
   ]
  },
  {
   "cell_type": "code",
   "execution_count": 31,
   "metadata": {},
   "outputs": [
    {
     "data": {
      "text/plain": [
       "array([ 0.00238759, -0.00905487,  0.01684976, -0.00259188,  0.0003051 ,\n",
       "        0.00352847, -0.00081572,  0.00749601,  0.0084063 ,  0.01165399,\n",
       "        0.00863019,  0.01082332, -0.01708635, -0.00474653,  0.00330676,\n",
       "        0.00573033, -0.00324709, -0.00581241,  0.00340554, -0.00061988,\n",
       "        0.00110295,  0.00274357, -0.00974507,  0.00344604, -0.00409065,\n",
       "        0.00578468, -0.00585447, -0.00065301,  0.00258926,  0.00149495,\n",
       "        0.00045994,  0.01031436,  0.01083726, -0.00607581,  0.01331528,\n",
       "        0.01213955, -0.01037435,  0.00162626,  0.00698686,  0.00200312,\n",
       "       -0.01169665,  0.00290381, -0.00250407, -0.00675524, -0.00913734,\n",
       "        0.0042626 ,  0.00784279, -0.00172653, -0.00687744, -0.00050499,\n",
       "        0.00071931,  0.01472743,  0.01618569,  0.00239614,  0.00531416,\n",
       "       -0.01645597,  0.0083224 , -0.00171803, -0.01376249, -0.00318439,\n",
       "       -0.01074727, -0.00494634, -0.00136675,  0.01503177, -0.0109706 ,\n",
       "       -0.01716124, -0.00405496,  0.01767059,  0.0030091 ,  0.00022994,\n",
       "       -0.00567238,  0.00348791,  0.01505918, -0.0071577 , -0.01308936,\n",
       "       -0.00430985,  0.00710196,  0.00366743, -0.00639988,  0.01252693,\n",
       "       -0.00842993, -0.00423205,  0.00103543,  0.01127114, -0.00267334,\n",
       "       -0.01296536,  0.00593457,  0.0010532 , -0.00085927,  0.01390136,\n",
       "        0.00681996,  0.0144337 , -0.01616817,  0.00972665,  0.01733634,\n",
       "       -0.00524847, -0.00066928, -0.00880299, -0.0104724 ,  0.00024109],\n",
       "      dtype=float32)"
      ]
     },
     "execution_count": 31,
     "metadata": {},
     "output_type": "execute_result"
    }
   ],
   "source": [
    "model['2021-09'].wv['certain']-model['2021-09'].wv['uncertain']"
   ]
  },
  {
   "cell_type": "code",
   "execution_count": 47,
   "metadata": {},
   "outputs": [
    {
     "name": "stdout",
     "output_type": "stream",
     "text": [
      "[('bronx', 0.36144378781318665), ('auto', 0.3456558287143707), ('studentloan', 0.3406968116760254), ('heartbreak', 0.332455575466156), ('dens', 0.3287903666496277), ('cent', 0.32342860102653503), ('geometr', 0.3194636106491089), ('shanksvill', 0.3189867436885834), ('margaret', 0.31608015298843384), ('kenneth', 0.31579887866973877)]\n"
     ]
    }
   ],
   "source": [
    "print(model['2021-09'].wv.most_similar('good'))"
   ]
  },
  {
   "cell_type": "code",
   "execution_count": 48,
   "metadata": {},
   "outputs": [
    {
     "name": "stdout",
     "output_type": "stream",
     "text": [
      "[('rational', 0.41860443353652954), ('widest', 0.35977911949157715), ('brake', 0.3488847315311432), ('soot', 0.32659947872161865), ('venkatprwsjcom', 0.32314053177833557), ('iea', 0.31359636783599854), ('rail', 0.30930137634277344), ('retent', 0.3029954433441162), ('broken', 0.3028797507286072), ('charley', 0.30199503898620605)]\n"
     ]
    }
   ],
   "source": [
    "print(model['2021-09'].wv.most_similar('bad'))"
   ]
  },
  {
   "cell_type": "code",
   "execution_count": 49,
   "metadata": {},
   "outputs": [
    {
     "name": "stdout",
     "output_type": "stream",
     "text": [
      "[('parisroubaix', 0.3387027084827423), ('kyrsten', 0.3372078537940979), ('cf', 0.33583611249923706), ('gamechang', 0.3256683647632599), ('martyn', 0.3209635615348816), ('aniston', 0.3203233778476715), ('amount', 0.3187102675437927), ('oxfam', 0.31554776430130005), ('coup', 0.3130550980567932), ('humana', 0.3085482120513916)]\n"
     ]
    }
   ],
   "source": [
    "print(model['2021-10'].wv.most_similar('certain'))"
   ]
  },
  {
   "cell_type": "code",
   "execution_count": 50,
   "metadata": {},
   "outputs": [
    {
     "name": "stdout",
     "output_type": "stream",
     "text": [
      "[('amish', 0.3379340171813965), ('worldview', 0.33166059851646423), ('smooth', 0.3286925256252289), ('invers', 0.3266356289386749), ('propos', 0.3259832561016083), ('homerenov', 0.3255958557128906), ('speaker', 0.31199002265930176), ('cohort', 0.3119129240512848), ('oil', 0.3117658495903015), ('diablo', 0.3100152611732483)]\n"
     ]
    }
   ],
   "source": [
    "print(model['2021-10'].wv.most_similar('uncertain'))"
   ]
  },
  {
   "cell_type": "code",
   "execution_count": 60,
   "metadata": {},
   "outputs": [
    {
     "name": "stdout",
     "output_type": "stream",
     "text": [
      "Alignment Complete\n"
     ]
    }
   ],
   "source": [
    "# assign two models\n",
    "dwe.smart_procrustes_align_gensim(model['2020-11'], model['2021-11'])"
   ]
  },
  {
   "cell_type": "code",
   "execution_count": 61,
   "metadata": {},
   "outputs": [
    {
     "name": "stdout",
     "output_type": "stream",
     "text": [
      "2020-11 1.1797177493572235\n",
      "2021-11 0.9868703782558441\n"
     ]
    }
   ],
   "source": [
    "print('2020-11', model['2020-11'].wv.distance('good', 'certain'))\n",
    "print('2021-11', model['2021-11'].wv.distance('good', 'certain'))"
   ]
  },
  {
   "cell_type": "code",
   "execution_count": 64,
   "metadata": {},
   "outputs": [
    {
     "name": "stdout",
     "output_type": "stream",
     "text": [
      "Alignment Complete\n"
     ]
    }
   ],
   "source": [
    "dwe.smart_procrustes_align_gensim(model['2019-12'], model['2021-08'])"
   ]
  },
  {
   "cell_type": "code",
   "execution_count": 65,
   "metadata": {},
   "outputs": [
    {
     "name": "stdout",
     "output_type": "stream",
     "text": [
      "2019-12 1.1711811125278473\n",
      "2021-08 0.9483139030635357\n"
     ]
    }
   ],
   "source": [
    "print('2019-12', model['2019-12'].wv.distance('good', 'certain'))\n",
    "print('2021-08', model['2021-08'].wv.distance('good', 'certain'))"
   ]
  }
 ],
 "metadata": {
  "kernelspec": {
   "display_name": "Python 3",
   "language": "python",
   "name": "python3"
  },
  "language_info": {
   "codemirror_mode": {
    "name": "ipython",
    "version": 3
   },
   "file_extension": ".py",
   "mimetype": "text/x-python",
   "name": "python",
   "nbconvert_exporter": "python",
   "pygments_lexer": "ipython3",
   "version": "3.8.3"
  }
 },
 "nbformat": 4,
 "nbformat_minor": 4
}
